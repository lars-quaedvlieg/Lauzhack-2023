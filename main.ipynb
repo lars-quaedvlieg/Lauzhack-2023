{
 "cells": [
  {
   "cell_type": "code",
   "execution_count": 12,
   "metadata": {},
   "outputs": [],
   "source": [
    "import dotenv\n",
    "import elevenlabs\n",
    "from elevenlabs import clone, generate, play, voices, Voice, VoiceSettings\n",
    "import os\n",
    "from voice_generator import VoiceGenerator"
   ]
  },
  {
   "cell_type": "markdown",
   "metadata": {},
   "source": [
    "## Load the cloned voice"
   ]
  },
  {
   "cell_type": "code",
   "execution_count": 8,
   "metadata": {},
   "outputs": [],
   "source": [
    "all_voices = voices()\n",
    "name = 'david bro'\n",
    "v = [v for v in all_voices if v.name==name][0]\n",
    "audio = generate(text=\"Hello there! How may I help you\", voice=v)\n",
    "arv = all_voices[-1]\n"
   ]
  },
  {
   "cell_type": "markdown",
   "metadata": {},
   "source": [
    "Play the audio"
   ]
  },
  {
   "cell_type": "code",
   "execution_count": 9,
   "metadata": {},
   "outputs": [],
   "source": [
    "play(audio)"
   ]
  },
  {
   "cell_type": "markdown",
   "metadata": {},
   "source": [
    "## Play output using cloned voice"
   ]
  },
  {
   "cell_type": "markdown",
   "metadata": {},
   "source": [
    "Set the voice settings"
   ]
  },
  {
   "cell_type": "code",
   "execution_count": 17,
   "metadata": {},
   "outputs": [],
   "source": [
    "settings_config = {\n",
    "    'stability': 0.5,\n",
    "    'similarity_boost': 0.81,\n",
    "    'style': 0.4,\n",
    "    'use_speaker_boost':True\n",
    "}"
   ]
  },
  {
   "cell_type": "code",
   "execution_count": 20,
   "metadata": {},
   "outputs": [
    {
     "name": "stdout",
     "output_type": "stream",
     "text": [
      "An existing voice with this name was found. No need to re-clone.\n"
     ]
    }
   ],
   "source": [
    "myVoice = VoiceGenerator('Ale')\n",
    "myVoice.play_audio('Hi bye', settings_config=settings_config)"
   ]
  },
  {
   "cell_type": "markdown",
   "metadata": {},
   "source": [
    "## Play audio using generic voice"
   ]
  },
  {
   "cell_type": "code",
   "execution_count": 11,
   "metadata": {},
   "outputs": [
    {
     "name": "stdout",
     "output_type": "stream",
     "text": [
      "An existing voice with this name was found. No need to re-clone.\n"
     ]
    }
   ],
   "source": [
    "myVoice = VoiceGenerator('Charlie')\n",
    "myVoice.play_audio('Hi bye')"
   ]
  },
  {
   "cell_type": "markdown",
   "metadata": {},
   "source": [
    "## Take wav files as input and output audio using cloned voice"
   ]
  },
  {
   "cell_type": "code",
   "execution_count": null,
   "metadata": {},
   "outputs": [],
   "source": [
    "audio = generate(text=\"Hi! I'm a cloned voice!\", voice=voice)\n",
    "play(audio)"
   ]
  }
 ],
 "metadata": {
  "kernelspec": {
   "display_name": "Lauzhack23",
   "language": "python",
   "name": "python3"
  },
  "language_info": {
   "codemirror_mode": {
    "name": "ipython",
    "version": 3
   },
   "file_extension": ".py",
   "mimetype": "text/x-python",
   "name": "python",
   "nbconvert_exporter": "python",
   "pygments_lexer": "ipython3",
   "version": "3.12.0"
  }
 },
 "nbformat": 4,
 "nbformat_minor": 2
}
