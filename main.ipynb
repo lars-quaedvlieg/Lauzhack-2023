{
 "cells": [
  {
   "cell_type": "code",
   "execution_count": 11,
   "metadata": {},
   "outputs": [],
   "source": [
    "import dotenv\n",
    "import elevenlabs\n",
    "from elevenlabs import *\n",
    "import os\n",
    "from voice_generator import ClonedVoice"
   ]
  },
  {
   "cell_type": "markdown",
   "metadata": {},
   "source": [
    "## Load the cloned voice"
   ]
  },
  {
   "cell_type": "code",
   "execution_count": 2,
   "metadata": {},
   "outputs": [
    {
     "name": "stdout",
     "output_type": "stream",
     "text": [
      "voice_id='0ZD0ks4HxYG8Odk5IpiC' name='Arv' category='cloned' description='' labels={} samples=[VoiceSample(sample_id='TkZa4eoMh9cHlHPMjOQd', file_name='test1.mp3', mime_type='audio/mpeg', size_bytes=1285737, hash='27473bfccce49f0ec34693345b5abedb'), VoiceSample(sample_id='axiu84c7VGq8AzPEqrKf', file_name='Recording (3).mp3', mime_type='audio/mpeg', size_bytes=956684, hash='eea9506e8df8eb4b4f9abef64c62d37e'), VoiceSample(sample_id='rQ3offsmPCUdDRVpBlL5', file_name='Recording.mp3', mime_type='audio/mpeg', size_bytes=233282, hash='05d47106b54e2de3db0a8ea23bc51d13')] design=None preview_url='https://storage.googleapis.com/eleven-public-prod/dyAX81rYXzgis9qa6awLg351x7J3/voices/0ZD0ks4HxYG8Odk5IpiC/01e09907-6884-47bc-8947-0aa30ce07e76.mp3' settings=None\n"
     ]
    }
   ],
   "source": [
    "from elevenlabs import voices, generate\n",
    "voices = voices()\n",
    "audio = generate(text=\"Hello there!\", voice=voices[0])\n",
    "print(voices[-1])\n",
    "\n",
    "arv = voices[-1]"
   ]
  },
  {
   "cell_type": "markdown",
   "metadata": {},
   "source": [
    "## Play output using cloned text"
   ]
  },
  {
   "cell_type": "code",
   "execution_count": 12,
   "metadata": {},
   "outputs": [
    {
     "name": "stdout",
     "output_type": "stream",
     "text": [
      "An existing cloned voice with this name was found. No need to re-clone.\n"
     ]
    }
   ],
   "source": [
    "myVoice = ClonedVoice('Arv')"
   ]
  },
  {
   "cell_type": "code",
   "execution_count": 16,
   "metadata": {},
   "outputs": [],
   "source": [
    "myVoice.play_audio('Hi bye')"
   ]
  },
  {
   "cell_type": "code",
   "execution_count": null,
   "metadata": {},
   "outputs": [],
   "source": []
  }
 ],
 "metadata": {
  "kernelspec": {
   "display_name": "Lauzhack23",
   "language": "python",
   "name": "python3"
  },
  "language_info": {
   "codemirror_mode": {
    "name": "ipython",
    "version": 3
   },
   "file_extension": ".py",
   "mimetype": "text/x-python",
   "name": "python",
   "nbconvert_exporter": "python",
   "pygments_lexer": "ipython3",
   "version": "3.12.0"
  }
 },
 "nbformat": 4,
 "nbformat_minor": 2
}
